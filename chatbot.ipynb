{
 "cells": [
  {
   "cell_type": "code",
   "execution_count": null,
   "metadata": {
    "vscode": {
     "languageId": "plaintext"
    }
   },
   "outputs": [],
   "source": [
    "import google.generativeai as genai\n",
    "import os\n",
    "\n",
    "# Set your API key\n",
    "os.environ['API KEY']=''\n",
    "genai.configure(api_key=os.environ['API_KEY'])\n",
    "\n",
    "#Initialize the model\n",
    "model = genai.GenerativeModel('gemini-1.5-pro-latest')\n",
    "\n",
    "def chat_bot():\n",
    "    print(\"Hey there, i'm a chatbot! type 'Exit' to end the conversation.\")\n",
    "    while True:\n",
    "    user_input=input(\"you: \")\n",
    "    if user_input.lower() in ['exit','quit']:\n",
    "        print(\"Chatbot: Goodbye!! See you soon')\n",
    "        break\n",
    "\n",
    "    try:\n",
    "        response = model.generate_content(user_input)\n",
    "        print(f\"Chatbot: { response.text.strip()}')\n",
    "    except Exception as e:\n",
    "        print(f\"Chatbot: sorry, there was an error processing your request\")\n",
    "\n",
    "if __name__ == '__main__':\n",
    "    chat_bot() "
   ]
  },
  {
   "cell_type": "code",
   "execution_count": null,
   "metadata": {
    "vscode": {
     "languageId": "plaintext"
    }
   },
   "outputs": [],
   "source": []
  }
 ],
 "metadata": {
  "language_info": {
   "name": "python"
  }
 },
 "nbformat": 4,
 "nbformat_minor": 2
}
